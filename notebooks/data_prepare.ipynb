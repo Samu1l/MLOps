{
 "cells": [
  {
   "cell_type": "code",
   "execution_count": 1,
   "metadata": {},
   "outputs": [],
   "source": [
    "import os\n",
    "import random\n",
    "import numpy as np\n",
    "import pandas as pd\n",
    "\n",
    "from pathlib import Path\n",
    "from sklearn.datasets import load_wine\n",
    "from sklearn.model_selection import train_test_split\n",
    "\n",
    "SEED = 89\n",
    "\n",
    "TRAIN_SIZE = 0.7\n",
    "\n",
    "TRAIN_SAVE_PATH = Path(os.getcwd()).parent / 'data/train.csv' # Для ноутбуков __file__ не работает\n",
    "TRAIN_SAVE_PATH.parent.mkdir(parents=True, exist_ok=True)\n",
    "\n",
    "TEST_SAVE_PATH = Path(os.getcwd()).parent / 'data/test.csv'\n",
    "TEST_SAVE_PATH.parent.mkdir(parents=True, exist_ok=True)\n",
    "\n",
    "\n",
    "def seed_everything(seed: int = 42) -> None:\n",
    "    random.seed(seed)\n",
    "    np.random.seed(seed)\n",
    "\n",
    "seed_everything(SEED)"
   ]
  },
  {
   "cell_type": "code",
   "execution_count": 2,
   "metadata": {},
   "outputs": [],
   "source": [
    "data = load_wine()"
   ]
  },
  {
   "cell_type": "code",
   "execution_count": 3,
   "metadata": {},
   "outputs": [],
   "source": [
    "X_train, X_test, y_train, y_test = train_test_split(\n",
    "    data.data,\n",
    "    data.target,\n",
    "    train_size=TRAIN_SIZE,\n",
    "    stratify=data.target,\n",
    "    shuffle=True,\n",
    ")"
   ]
  },
  {
   "cell_type": "code",
   "execution_count": 4,
   "metadata": {},
   "outputs": [],
   "source": [
    "df_train = pd.DataFrame(X_train, columns=data[\"feature_names\"])\n",
    "df_train[\"target\"] = y_train\n",
    "df_train.to_csv(TRAIN_SAVE_PATH, index=False)"
   ]
  },
  {
   "cell_type": "code",
   "execution_count": 5,
   "metadata": {},
   "outputs": [],
   "source": [
    "df_test = pd.DataFrame(X_test, columns=data[\"feature_names\"])\n",
    "df_test[\"target\"] = y_test\n",
    "df_test.to_csv(TEST_SAVE_PATH, index=False)"
   ]
  }
 ],
 "metadata": {
  "kernelspec": {
   "display_name": "Python 3",
   "language": "python",
   "name": "python3"
  },
  "language_info": {
   "codemirror_mode": {
    "name": "ipython",
    "version": 3
   },
   "file_extension": ".py",
   "mimetype": "text/x-python",
   "name": "python",
   "nbconvert_exporter": "python",
   "pygments_lexer": "ipython3",
   "version": "3.8.8"
  }
 },
 "nbformat": 4,
 "nbformat_minor": 2
}
